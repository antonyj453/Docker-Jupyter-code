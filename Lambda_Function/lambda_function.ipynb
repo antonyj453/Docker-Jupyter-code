{
 "cells": [
  {
   "cell_type": "code",
   "execution_count": 1,
   "id": "fabd4a1b-2fc5-4abb-860c-e54aa84c42a1",
   "metadata": {},
   "outputs": [
    {
     "name": "stderr",
     "output_type": "stream",
     "text": [
      "WARNING: An illegal reflective access operation has occurred\n",
      "WARNING: Illegal reflective access by org.apache.spark.unsafe.Platform (file:/opt/spark/jars/spark-unsafe_2.12-3.2.1.jar) to constructor java.nio.DirectByteBuffer(long,int)\n",
      "WARNING: Please consider reporting this to the maintainers of org.apache.spark.unsafe.Platform\n",
      "WARNING: Use --illegal-access=warn to enable warnings of further illegal reflective access operations\n",
      "WARNING: All illegal access operations will be denied in a future release\n",
      "Using Spark's default log4j profile: org/apache/spark/log4j-defaults.properties\n",
      "Setting default log level to \"WARN\".\n",
      "To adjust logging level use sc.setLogLevel(newLevel). For SparkR, use setLogLevel(newLevel).\n",
      "24/06/17 03:24:13 WARN NativeCodeLoader: Unable to load native-hadoop library for your platform... using builtin-java classes where applicable\n",
      "                                                                                \r"
     ]
    },
    {
     "name": "stdout",
     "output_type": "stream",
     "text": [
      "+----+---+\n",
      "|name|age|\n",
      "+----+---+\n",
      "| Bob| 45|\n",
      "|Dave| 52|\n",
      "+----+---+\n",
      "\n"
     ]
    }
   ],
   "source": [
    "from pyspark.sql import SparkSession, Row\n",
    "\n",
    "# Initialize a Spark session\n",
    "spark = SparkSession.builder.appName(\"example\").getOrCreate()\n",
    "\n",
    "# Define a list of tuples as data\n",
    "data = [(\"Alice\", 34), (\"Bob\", 45), (\"Carol\", 28), (\"Dave\", 52)]\n",
    "rdd = spark.sparkContext.parallelize(data)\n",
    "\n",
    "# Convert RDD to DataFrame\n",
    "df = rdd.map(lambda x: Row(name=x[0], age=int(x[1]))).toDF()\n",
    "\n",
    "# Register DataFrame as a SQL table\n",
    "df.createOrReplaceTempView(\"people\")\n",
    "\n",
    "# Perform a SQL query\n",
    "result = spark.sql(\"SELECT * FROM people where age >40\")\n",
    "result.show()"
   ]
  },
  {
   "cell_type": "code",
   "execution_count": null,
   "id": "9490e7c9-497b-4ffa-b5fb-b3fdcb88afc4",
   "metadata": {},
   "outputs": [],
   "source": []
  }
 ],
 "metadata": {
  "kernelspec": {
   "display_name": "Python 3 (ipykernel)",
   "language": "python",
   "name": "python3"
  },
  "language_info": {
   "codemirror_mode": {
    "name": "ipython",
    "version": 3
   },
   "file_extension": ".py",
   "mimetype": "text/x-python",
   "name": "python",
   "nbconvert_exporter": "python",
   "pygments_lexer": "ipython3",
   "version": "3.8.13"
  }
 },
 "nbformat": 4,
 "nbformat_minor": 5
}
